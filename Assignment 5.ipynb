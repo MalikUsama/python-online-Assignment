{
 "cells": [
  {
   "cell_type": "code",
   "execution_count": 1,
   "metadata": {},
   "outputs": [
    {
     "name": "stdout",
     "output_type": "stream",
     "text": [
      "Enter Positive Integer23\n",
      "The factorial of 23 is : 25852016738884976640000\n"
     ]
    }
   ],
   "source": [
    "def facto(n):\n",
    "    fact=1\n",
    "    for i in range(1,n+1): \n",
    "        fact = fact * i   \n",
    "    return fact\n",
    "    \n",
    "n=int(input(\"Enter Positive Integer\"))\n",
    "if n<0 :\n",
    "        print(\"Enter Positive Integer\")\n",
    "else:\n",
    "    fact=facto(n)\n",
    "    print (\"The factorial of 23 is : \",end=\"\") \n",
    "    print (fact)"
   ]
  },
  {
   "cell_type": "code",
   "execution_count": 2,
   "metadata": {},
   "outputs": [
    {
     "name": "stdout",
     "output_type": "stream",
     "text": [
      "Enter String to Calculate : MalikUSama\n",
      "Original String :  MalikUSama\n",
      "No. of Upper case characters :  3\n",
      "No. of Lower case Characters :  7\n"
     ]
    }
   ],
   "source": [
    "def string_test(s):\n",
    "    d={\"UPPER_CASE\":0, \"LOWER_CASE\":0}\n",
    "    for c in s:\n",
    "        if c.isupper():\n",
    "           d[\"UPPER_CASE\"]+=1\n",
    "        elif c.islower():\n",
    "           d[\"LOWER_CASE\"]+=1\n",
    "        \n",
    "    print (\"Original String : \", s)\n",
    "    print (\"No. of Upper case characters : \", d[\"UPPER_CASE\"])\n",
    "    print (\"No. of Lower case Characters : \", d[\"LOWER_CASE\"])\n",
    "s=input(\"Enter String to Calculate :\"+ \" \") \n",
    "string_test(s)"
   ]
  },
  {
   "cell_type": "code",
   "execution_count": 3,
   "metadata": {},
   "outputs": [
    {
     "name": "stdout",
     "output_type": "stream",
     "text": [
      "Even Nums =\n",
      "10\n",
      "Even Nums =\n",
      "4\n",
      "Even Nums =\n",
      "66\n"
     ]
    }
   ],
   "source": [
    "def check_even(num):\n",
    "    if num % 2 == 0: \n",
    "        print(\"Even Nums =\")\n",
    "        print(num)\n",
    "        \n",
    "list1 = [10, 21, 4, 45, 66, 93] \n",
    "  \n",
    "# iterating each number in list \n",
    "for num in list1: \n",
    "    check_even(num) "
   ]
  },
  {
   "cell_type": "code",
   "execution_count": 4,
   "metadata": {},
   "outputs": [
    {
     "name": "stdout",
     "output_type": "stream",
     "text": [
      "True\n"
     ]
    }
   ],
   "source": [
    "def isPalindrome(string):\n",
    "    left_pos = 0\n",
    "    right_pos = len(string) - 1\n",
    "\n",
    "    while right_pos >= left_pos:\n",
    "        if not string[left_pos] == string[right_pos]:\n",
    "            return False\n",
    "        left_pos += 1\n",
    "        right_pos -= 1\n",
    "    return True\n",
    "print(isPalindrome('madam'))"
   ]
  },
  {
   "cell_type": "code",
   "execution_count": 5,
   "metadata": {},
   "outputs": [
    {
     "name": "stdout",
     "output_type": "stream",
     "text": [
      "407 is not a prime number\n"
     ]
    }
   ],
   "source": [
    "def check_prime(num):\n",
    "    if num > 1:\n",
    "        for i in range(2,num):\n",
    "            if (num % i) == 0:\n",
    "                print(num,\"is not a prime number\")\n",
    "                break\n",
    "        else:\n",
    "            print(num,\"is a prime number\")\n",
    "       \n",
    "\n",
    "check_prime(407)"
   ]
  },
  {
   "cell_type": "code",
   "execution_count": null,
   "metadata": {},
   "outputs": [
    {
     "name": "stdout",
     "output_type": "stream",
     "text": [
      "Enter 1 to start1\n",
      "Enter Items or press E to Exit and Display Itemssoap\n",
      "Enter Items or press E to Exit and Display Itemscloths\n",
      "Enter Items or press E to Exit and Display Itemsdetergent\n",
      "Enter Items or press E to Exit and Display Itemsshoes\n",
      "Enter Items or press E to Exit and Display ItemsE\n",
      "['soap', 'cloths', 'detergent', 'shoes']\n"
     ]
    }
   ],
   "source": [
    "def shopping_list(*shop):\n",
    "    for i in shop:\n",
    "        print(i)   \n",
    "  \n",
    "\n",
    "b=int(input(\"Enter 1 to start\"))\n",
    "list1=[]\n",
    "while b==1:\n",
    "    a=input(\"Enter Items or press E to Exit and Display Items\")\n",
    "    if a==\"E\":\n",
    "        shopping_list(list1) \n",
    "    else:\n",
    "           list1.append(a)"
   ]
  },
  {
   "cell_type": "code",
   "execution_count": null,
   "metadata": {},
   "outputs": [],
   "source": []
  }
 ],
 "metadata": {
  "kernelspec": {
   "display_name": "Python 3",
   "language": "python",
   "name": "python3"
  },
  "language_info": {
   "codemirror_mode": {
    "name": "ipython",
    "version": 3
   },
   "file_extension": ".py",
   "mimetype": "text/x-python",
   "name": "python",
   "nbconvert_exporter": "python",
   "pygments_lexer": "ipython3",
   "version": "3.6.7"
  }
 },
 "nbformat": 4,
 "nbformat_minor": 2
}
