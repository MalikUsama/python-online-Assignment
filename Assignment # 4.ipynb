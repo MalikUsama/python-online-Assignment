{
 "cells": [
  {
   "cell_type": "code",
   "execution_count": 1,
   "metadata": {},
   "outputs": [
    {
     "name": "stdout",
     "output_type": "stream",
     "text": [
      "first_name : Malik\n",
      "last_name : Usama\n",
      "age : 21\n",
      "city : Karachi\n",
      "{'first_name': 'Malik', 'last_name': 'Usama', 'age': '21', 'city': 'Karachi', 'Qualification': 'MATRIC'}\n",
      "{'first_name': 'Malik', 'last_name': 'Usama', 'age': '21', 'city': 'Karachi', 'Qualification': 'FSC'}\n",
      "{'first_name': 'Malik', 'last_name': 'Usama', 'age': '21', 'city': 'Karachi'}\n"
     ]
    }
   ],
   "source": [
    "dict={\"first_name\":\"Malik\",\"last_name\":\"Usama\",\"age\":\"21\",\"city\":\"Karachi\"}\n",
    "for k,v in dict.items():\n",
    "    print(k + \" : \" + v )\n",
    "    \n",
    "dict[\"Qualification\"]=\"MATRIC\"\n",
    "print(dict)\n",
    "\n",
    "\n",
    "dict[\"Qualification\"]=\"FSC\"\n",
    "print(dict)\n",
    "\n",
    "del dict[\"Qualification\"]\n",
    "print(dict)"
   ]
  },
  {
   "cell_type": "code",
   "execution_count": 2,
   "metadata": {},
   "outputs": [
    {
     "name": "stdout",
     "output_type": "stream",
     "text": [
      "city : karachi: INFORMATION :{' country ': ' pakistan ', ' population ': ' 14m ', 'fact': ' big city '}\n",
      "city : mexico: INFORMATION :{'country': 'america', 'population': '129m', 'fact': 'big city'}\n",
      "city : lahore: INFORMATION :{'country': 'pakistan', 'population': '1m', 'fact': 'flower city'}\n"
     ]
    }
   ],
   "source": [
    "cities={\"karachi\":{\" country \":\" pakistan \",\" population \":\" 14m \",\"fact\":\" big city \"},\"mexico\":{\"country\":\"america\",\"population\":\"129m\",\"fact\":\"big city\"},\"lahore\":{\"country\":\"pakistan\",\"population\":\"1m\",\"fact\":\"flower city\"}}\n",
    "for key, value in cities.items():\n",
    "    print(\"city\" +  \" : \" + str(key) +  \": INFORMATION :\" + str(value))"
   ]
  },
  {
   "cell_type": "code",
   "execution_count": 3,
   "metadata": {},
   "outputs": [
    {
     "name": "stdout",
     "output_type": "stream",
     "text": [
      "Please enter your age: 13\n",
      "Your ticket is $15\n"
     ]
    }
   ],
   "source": [
    "age = input(\"Please enter your age: \")\n",
    "age = int(age)\n",
    "\n",
    "\n",
    "   \n",
    "if age < 3:\n",
    "        print(\"Your ticket is free\")\n",
    "elif (age >=3) and (age<=12):\n",
    "        print(\"Your ticket is $10\")\n",
    "elif age>12:\n",
    "        print(\"Your ticket is $15\")"
   ]
  },
  {
   "cell_type": "code",
   "execution_count": 4,
   "metadata": {},
   "outputs": [
    {
     "name": "stdout",
     "output_type": "stream",
     "text": [
      "Enter an integer from 1 to 30: 5\n",
      "guess is low\n",
      "Enter an integer from 1 to 30: 10\n",
      "guess is low\n",
      "Enter an integer from 1 to 30: 20\n",
      "TRY AGAIN THANKYOU\n"
     ]
    }
   ],
   "source": [
    "import random\n",
    "n = random.randint(1, 30)\n",
    "guess = int(input(\"Enter an integer from 1 to 30: \"))\n",
    "\n",
    "m=1\n",
    "while n != \"guess\":\n",
    "    if m==3:\n",
    "        break\n",
    "    m+=1\n",
    "    if guess < n:\n",
    "        print (\"guess is low\")\n",
    "        guess = int(input(\"Enter an integer from 1 to 30: \"))\n",
    "    elif guess > n:\n",
    "        print (\"guess is high\")\n",
    "        guess = int(input(\"Enter an integer from 1 to 30: \"))\n",
    "    else:\n",
    "        print (\"you guessed it!\")\n",
    "        break\n",
    "        \n",
    "print(\"TRY AGAIN THANKYOU\")"
   ]
  },
  {
   "cell_type": "code",
   "execution_count": null,
   "metadata": {},
   "outputs": [],
   "source": []
  }
 ],
 "metadata": {
  "kernelspec": {
   "display_name": "Python 3",
   "language": "python",
   "name": "python3"
  },
  "language_info": {
   "codemirror_mode": {
    "name": "ipython",
    "version": 3
   },
   "file_extension": ".py",
   "mimetype": "text/x-python",
   "name": "python",
   "nbconvert_exporter": "python",
   "pygments_lexer": "ipython3",
   "version": "3.6.7"
  }
 },
 "nbformat": 4,
 "nbformat_minor": 2
}
